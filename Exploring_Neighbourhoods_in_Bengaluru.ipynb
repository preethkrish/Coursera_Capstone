{
 "cells": [
  {
   "cell_type": "markdown",
   "metadata": {},
   "source": [
    "DISCUSSION OF BUSINESS IDEA\n",
    "\n",
    "Idea Statement:\n",
    "\n",
    "Sports centres play an important role in a community. The benefits of sports not only help the body, but they also create a less stressed mind. People who exercise regularly are more than twice likely to consider themselves happy. \n",
    "\n",
    "Houses that are located closely to newly built sport centres notice increase in property values. Studies have shown that people not only love going to recreation centres, but they are also willing to pay to live closer to one.\n",
    "\n",
    "Having a sports centre improves the quality of life and empowers a community in general.\n",
    "\n",
    "Bengaluru is the centre of high-tech industry in India with pleasant weather for most part of the year, hence attracting a huge crowd of people into the city. Given that it is a IT hub, there is an emerging problem of people spending most of their working time sitting. In the recent years, there has been a surge in fitness awareness. \n",
    "\n",
    "Running a sport centre in the IT hub trends to be profitable, given the nature of the community."
   ]
  },
  {
   "cell_type": "markdown",
   "metadata": {},
   "source": [
    "TARGET AUDIENCE\n",
    "\n",
    "1. Anyone who is looking to open a sport centre in Bangalore. This analysis will explore Bangalore neighbourhoods and provide probable fits for opening a sport facility along with an analysis of what kind of facility to open\n",
    "2. Government officials who are looking to uplift a community.\n",
    "3. Anyone who wants to explore similar Bangalore neighbourhoods (based on the different venues in the area)"
   ]
  },
  {
   "cell_type": "markdown",
   "metadata": {},
   "source": [
    "DATA THAT WILL BE USED IN THE ANALYSIS\n",
    "\n",
    "1. A dataset which will give the latitudes and longitudes of all the different wards in the city of Bengaluru\n",
    "    This data will be used to mark the boundaries of the different wards. The latitude and the longitude data will help in plotting a choropleth map. \n",
    "    \n",
    "2. A dataset to provide the area and population of each of the wards. \n",
    "    This data will help in analysing the neighbourhoods in terms of population density and explore the target areas for setting up a sporting centre. The population density can be segmented into 3 categories and a bubble plot can be used to represent the differnt categories. Higher the population density, better the footfall.\n",
    "    \n",
    "3. A dataset that gives the different venues in every ward. Foursquare location data will be used for this.\n",
    "    The venue details and the different categories will help in clustering the areas to find neighbourhoods that are similar to each other. The neighbourhoods will be clustered based on non-sport venues, with the assumption that such characteristics define the development of sports facilities. We will also derive the density of sporting facilites in each neighbourhood. Once we have the clusters defined, a neighbourhood can be chosen such that there is least competition and also one which is similar to the neighbourhood with the higher number of sporting facilities. \n",
    "    \n",
    "The data for Bengaluru wards will be taken from the open city forum."
   ]
  }
 ],
 "metadata": {
  "kernelspec": {
   "display_name": "Python 3",
   "language": "python",
   "name": "python3"
  },
  "language_info": {
   "codemirror_mode": {
    "name": "ipython",
    "version": 3
   },
   "file_extension": ".py",
   "mimetype": "text/x-python",
   "name": "python",
   "nbconvert_exporter": "python",
   "pygments_lexer": "ipython3",
   "version": "3.7.3"
  }
 },
 "nbformat": 4,
 "nbformat_minor": 2
}
